{
  "nbformat": 4,
  "nbformat_minor": 0,
  "metadata": {
    "colab": {
      "provenance": [],
      "gpuType": "T4"
    },
    "kernelspec": {
      "name": "python3",
      "display_name": "Python 3"
    },
    "language_info": {
      "name": "python"
    },
    "accelerator": "GPU"
  },
  "cells": [
    {
      "cell_type": "markdown",
      "source": [
        "#Подготовка"
      ],
      "metadata": {
        "id": "33ovjxg0Q3X-"
      }
    },
    {
      "cell_type": "code",
      "source": [
        "!wget https://lodmedia.hb.bizmrg.com/case_files/1050931/train_dataset_train.zip\n",
        "#!cp /content/drive/MyDrive/Factoryvision/train_dataset_train.zip .\n",
        "!unzip -q ./train_dataset_train.zip\n",
        "!mkdir data\n",
        "!mkdir ./data/train/\n",
        "!mkdir ./data/valid/\n",
        "!mkdir data/train/images\n",
        "!mkdir data/valid/images\n",
        "!mkdir data/train/labels\n",
        "!mkdir data/valid/labels\n",
        "!mv cameras data\n",
        "!mv danger_zones data\n",
        "!touch pothole_v8.yaml\n",
        "!echo \"path: './data/'\" >> pothole_v8.yaml\n",
        "!echo \"train: 'train/images'\" >> pothole_v8.yaml\n",
        "!echo \"val: 'valid/images'\" >> pothole_v8.yaml\n",
        "!echo \"names:\" >>  pothole_v8.yaml\n",
        "!echo \"  0: 'person'\" >> pothole_v8.yaml\n",
        "!pip install --upgrade ultralytics==8.0.186 wandb shapely dill"
      ],
      "metadata": {
        "id": "FX7vemObMIOM"
      },
      "execution_count": null,
      "outputs": []
    },
    {
      "cell_type": "code",
      "source": [
        "import pandas as pd\n",
        "import json\n",
        "import os\n",
        "import re\n",
        "import numpy as np\n",
        "#import matplotlib.pyplot as plt\n",
        "import torch.nn.functional as F\n",
        "import torch.nn as nn\n",
        "import torch\n",
        "import random\n",
        "from tqdm.auto import tqdm\n",
        "from sklearn.model_selection import train_test_split\n",
        "from collections import Counter\n",
        "from copy import deepcopy\n",
        "from torch.optim.lr_scheduler import CosineAnnealingWarmRestarts, CosineAnnealingLR\n",
        "#from google.colab.patches import cv2_imshow\n",
        "from shapely.geometry import Polygon, box\n",
        "import wandb\n",
        "from ultralytics import YOLO\n",
        "from wandb.integration.ultralytics import add_wandb_callback\n",
        "import cv2\n"
      ],
      "metadata": {
        "id": "AslUf9HD0Io8"
      },
      "execution_count": 48,
      "outputs": []
    },
    {
      "cell_type": "code",
      "source": [
        "def set_seed(seed: int = 42) -> None:\n",
        "    np.random.seed(seed)\n",
        "    random.seed(seed)\n",
        "    torch.manual_seed(seed)\n",
        "    torch.cuda.manual_seed(seed)\n",
        "    # When running on the CuDNN backend, two further options must be set\n",
        "    torch.backends.cudnn.deterministic = True\n",
        "    torch.backends.cudnn.benchmark = False\n",
        "    # Set a fixed value for the hash seed\n",
        "    os.environ[\"PYTHONHASHSEED\"] = str(seed)\n",
        "    print(f\"Random seed set as {seed}\")\n",
        "set_seed()"
      ],
      "metadata": {
        "id": "ABrmipm80LeP",
        "colab": {
          "base_uri": "https://localhost:8080/"
        },
        "outputId": "82ec70cd-ee9d-4ed5-b775-326efa7059d6"
      },
      "execution_count": 29,
      "outputs": [
        {
          "output_type": "stream",
          "name": "stdout",
          "text": [
            "Random seed set as 42\n"
          ]
        }
      ]
    },
    {
      "cell_type": "markdown",
      "source": [
        "#Данные"
      ],
      "metadata": {
        "id": "DnSC1tK6Q7ss"
      }
    },
    {
      "cell_type": "code",
      "source": [
        "data = []\n",
        "for i in os.listdir(\"./data/cameras\"):\n",
        "  for j in  os.listdir(f\"./data/cameras/{i}\"):\n",
        "    if j.split('.')[-1] == \"jpg\":\n",
        "      data.append(f\"./data/cameras/{i}/{j}\")\n",
        "    elif j.split('.')[-1] == \"Png\":\n",
        "      data.append(f\"./data/cameras/{i}/{j}\")"
      ],
      "metadata": {
        "id": "mpPzByvQp3_8"
      },
      "execution_count": 30,
      "outputs": []
    },
    {
      "cell_type": "code",
      "source": [
        "train, test = train_test_split(data, test_size=0.1, random_state=int(os.environ[\"PYTHONHASHSEED\"]))"
      ],
      "metadata": {
        "id": "CV6aD194tvgo"
      },
      "execution_count": 31,
      "outputs": []
    },
    {
      "cell_type": "code",
      "source": [
        "for i in train:\n",
        "  rash = i[-3:]\n",
        "  a = i[:-4]\n",
        "  try:\n",
        "   if rash == \"jpg\":\n",
        "       os.rename(f\"{a}.jpg\", f\"./data/train/images/{a.split('/')[-2]}&{a.split('/')[-1]}.jpg\")\n",
        "   else:\n",
        "       os.rename(f\"{a}.Png\", f\"./data/train/images/{a.split('/')[-2]}&{a.split('/')[-1]}.Png\")\n",
        "   os.rename(f\"{a}.txt\", f\"./data/train/labels/{a.split('/')[-2]}&{a.split('/')[-1]}.txt\")\n",
        "  except Exception as e:\n",
        "    print(e, i)"
      ],
      "metadata": {
        "id": "NHEs-O3YuTCQ"
      },
      "execution_count": 32,
      "outputs": []
    },
    {
      "cell_type": "code",
      "source": [
        "for i in test:\n",
        "  rash = i[-3:]\n",
        "  a = i[:-4]\n",
        "  try:\n",
        "   if rash == \"jpg\":\n",
        "       os.rename(f\"{a}.jpg\", f\"./data/valid/images/{a.split('/')[-2]}&{a.split('/')[-1]}.jpg\")\n",
        "   else:\n",
        "       os.rename(f\"{a}.Png\", f\"./data/valid/images/{a.split('/')[-2]}&{a.split('/')[-1]}.Png\")\n",
        "   os.rename(f\"{a}.txt\", f\"./data/valid/labels/{a.split('/')[-2]}&{a.split('/')[-1]}.txt\")\n",
        "  except Exception as e:\n",
        "    print(e, i)"
      ],
      "metadata": {
        "id": "-KuGaC3mw8GP"
      },
      "execution_count": 33,
      "outputs": []
    },
    {
      "cell_type": "markdown",
      "source": [
        "#Обучение"
      ],
      "metadata": {
        "id": "YCE5WDcnQ1gM"
      }
    },
    {
      "cell_type": "code",
      "source": [
        "EPOCHS = 300\n",
        "BATCH = 16\n",
        "IMGSZ = 1280\n",
        "NAME = \"yolov8n\"\n",
        "MODEL = 'yolov8n.pt' # n s m l - пробуем все"
      ],
      "metadata": {
        "id": "VGVQlCaOqBSt"
      },
      "execution_count": null,
      "outputs": []
    },
    {
      "cell_type": "code",
      "source": [
        "wandb.login(key=\"2dffb26d8578c9b3cd196ec554c5f856d28c1dfa\")\n",
        "wandb.init(\n",
        "    project=\"yolov8fin\")"
      ],
      "metadata": {
        "id": "AE2VFFvkM0rX"
      },
      "execution_count": null,
      "outputs": []
    },
    {
      "cell_type": "code",
      "source": [
        "model = YOLO(MODEL)\n",
        "add_wandb_callback(model, enable_model_checkpointing=True)\n",
        "results = model.train(\n",
        "   data='pothole_v8.yaml',\n",
        "   imgsz=IMGSZ,\n",
        "   epochs=EPOCHS,\n",
        "   batch=BATCH,\n",
        "   name=NAME,\n",
        "   project = 'yolov8fin',\n",
        "   )\n",
        "model.val()\n",
        "wandb.finish()"
      ],
      "metadata": {
        "id": "QSkAw6mYKh6P"
      },
      "execution_count": null,
      "outputs": []
    },
    {
      "cell_type": "markdown",
      "source": [
        "#Вспомогательные функции"
      ],
      "metadata": {
        "id": "EsC3MhCwRBhz"
      }
    },
    {
      "cell_type": "code",
      "source": [
        "def intersectionArea(poly_coords, square_coords):\n",
        "    poly = Polygon(poly_coords)\n",
        "    square = box(*square_coords)\n",
        "    intersection = poly.intersection(square)\n",
        "    if intersection.area == 0:\n",
        "      return (False, 0)\n",
        "    p =  intersection.area / square.area\n",
        "    return (p >= 0.15, round(p, 2))"
      ],
      "metadata": {
        "id": "ELAos_j_9XqI"
      },
      "execution_count": 58,
      "outputs": []
    },
    {
      "cell_type": "code",
      "source": [
        "def giveDictPolygon():\n",
        "  d = {}\n",
        "  for i in os.listdir(\"./data/danger_zones\"):\n",
        "    if i.split('.')[-1] == \"txt\":\n",
        "      with open(f\"./data/danger_zones/{i}\") as r:\n",
        "        data = r.read()\n",
        "        name = i.split(\"_\")[1].split('.')[0]\n",
        "        if name not in d:\n",
        "          d[name] = []\n",
        "        d[name].append([])\n",
        "        for j in data.split(\",\\n\"):\n",
        "          d[name][-1].append(list(map(int, j.strip()[1:-1].split(\", \"))))\n",
        "  return d"
      ],
      "metadata": {
        "id": "dnMFsXLLJ8Fw"
      },
      "execution_count": 11,
      "outputs": []
    },
    {
      "cell_type": "markdown",
      "source": [
        "#ИНФЕРЕНС"
      ],
      "metadata": {
        "id": "ZxsipEBkqV2l"
      }
    },
    {
      "cell_type": "code",
      "source": [
        "CONF_YOLO = 0.45\n",
        "MODEL_NAME = \"yolov8l.pt\" # models/yolov8s.pt или models/yolov8l.pt Пропишите путь до модели, они находятся в папку models в репозитории\n",
        "model = YOLO(MODEL_NAME)"
      ],
      "metadata": {
        "id": "OgE3JYsbUV82"
      },
      "execution_count": 34,
      "outputs": []
    },
    {
      "cell_type": "code",
      "source": [
        "def imageanswer(image, cam_name, model, conf_yolo):\n",
        "\n",
        "    intersectionList = []\n",
        "\n",
        "    predict_yolo = model.predict(\n",
        "        source=image, conf=conf_yolo, verbose=False\n",
        "    )\n",
        "    image = cv2.imread(image)\n",
        "    for i in giveDictPolygon()[cam_name]:\n",
        "        for j in range(len(i) - 1):\n",
        "            cv2.line(image, i[j], i[j + 1], (0, 255, 0), 3)\n",
        "        cv2.line(image, i[-1], i[0], (0, 255, 0), 3)\n",
        "\n",
        "    coors = predict_yolo[0].boxes.data\n",
        "\n",
        "    for i in coors:\n",
        "        coor = list(map(int, list(i)[:-2]))\n",
        "        cv2.rectangle(image, (coor[0], coor[1]), (coor[2], coor[3]), (0, 255, 255), 2)\n",
        "        intersectionListTemp = []\n",
        "        for j in giveDictPolygon()[cam_name]:\n",
        "            intersectionListTemp.append(intersectionArea(j, coor))\n",
        "        intersectionList.append(max(intersectionListTemp, key=lambda x: x[1]))\n",
        "        if len(intersectionList) == 0:\n",
        "          return [[[False, 0]], image]\n",
        "    return intersectionList, image"
      ],
      "metadata": {
        "id": "52OlVsNo5WzH"
      },
      "execution_count": 65,
      "outputs": []
    },
    {
      "cell_type": "code",
      "source": [
        "def makeCSV(path):\n",
        "  df = pd.read_csv(path)\n",
        "  df.to_csv(\"submit.csv\", index=False)"
      ],
      "metadata": {
        "id": "tAK_fYrovc0G"
      },
      "execution_count": 7,
      "outputs": []
    },
    {
      "cell_type": "code",
      "source": [
        "image = \"example/DpR-Csp-uipv-ShV-V15d56b754-3f8a-4665-8b2e-1d0b340be4bb.jpg\"\n",
        "cam_name = \"DpR-Csp-uipv-ShV-V1\"\n",
        "#image =  \"example/Pgp-lpc2-K-0-1-38&Pgp-lpc2-K-0-1-38_Nepreryvnaya_podgruppa_(kleti_3-5)_2021-11-17_15_40_09.481.Png\"\n",
        "#cam_name = \"Pgp-lpc2-K-0-1-38\"\n",
        "#image = \"example/Php-Angc-K3-8&Php-Angc-K3-8_angc4test1144.jpg\"\n",
        "#cam_name = \"Php-Angc-K3-8\"\n"
      ],
      "metadata": {
        "id": "nvr1tlkrug_n"
      },
      "execution_count": null,
      "outputs": []
    },
    {
      "cell_type": "code",
      "source": [
        "data = MLflex.imageanswer(image, cam_name, model, conf_yolo)\n",
        "print(data[0])\n",
        "cv2.imwrite('example.jpg', data[1])"
      ],
      "metadata": {
        "id": "lIcGjme5unDD"
      },
      "execution_count": null,
      "outputs": []
    }
  ]
}